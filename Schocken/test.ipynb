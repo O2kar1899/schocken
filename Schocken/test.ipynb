{
 "cells": [
  {
   "cell_type": "code",
   "execution_count": 3,
   "metadata": {},
   "outputs": [
    {
     "name": "stdout",
     "output_type": "stream",
     "text": [
      "['Minesweeper/ms_cell_0.gif', 'Minesweeper/ms_cell_1.gif', 'Minesweeper/ms_cell_2.gif', 'Minesweeper/ms_cell_3.gif', 'Minesweeper/ms_cell_4.gif', 'Minesweeper/ms_cell_5.gif', 'Minesweeper/ms_cell_6.gif', 'Minesweeper/ms_cell_7.gif', 'Minesweeper/ms_cell_8.gif']\n"
     ]
    }
   ],
   "source": [
    "cell_selected = []\n",
    "for n in range(9):\n",
    "    cell_selected.append(f'Minesweeper/ms_cell_{n}.gif')\n",
    "print(cell_selected)\n"
   ]
  },
  {
   "cell_type": "code",
   "execution_count": null,
   "metadata": {},
   "outputs": [],
   "source": []
  },
  {
   "cell_type": "code",
   "execution_count": null,
   "metadata": {},
   "outputs": [],
   "source": []
  },
  {
   "cell_type": "code",
   "execution_count": null,
   "metadata": {},
   "outputs": [],
   "source": []
  }
 ],
 "metadata": {
  "interpreter": {
   "hash": "916dbcbb3f70747c44a77c7bcd40155683ae19c65e1c03b4aa3499c5328201f1"
  },
  "kernelspec": {
   "display_name": "Python 3.8.10 64-bit",
   "language": "python",
   "name": "python3"
  },
  "language_info": {
   "codemirror_mode": {
    "name": "ipython",
    "version": 3
   },
   "file_extension": ".py",
   "mimetype": "text/x-python",
   "name": "python",
   "nbconvert_exporter": "python",
   "pygments_lexer": "ipython3",
   "version": "3.9.7"
  },
  "orig_nbformat": 4
 },
 "nbformat": 4,
 "nbformat_minor": 2
}
