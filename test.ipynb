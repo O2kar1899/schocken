{
 "cells": [
  {
   "cell_type": "code",
   "execution_count": 9,
   "metadata": {},
   "outputs": [
    {
     "name": "stdout",
     "output_type": "stream",
     "text": [
      "RESULT STARTWERT [1, 1, 5] \n",
      "Schock [1, 1, 5] \n"
     ]
    },
    {
     "data": {
      "text/plain": [
       "('Schock', [1, 1, 5], 2)"
      ]
     },
     "execution_count": 9,
     "metadata": {},
     "output_type": "execute_result"
    }
   ],
   "source": [
    "def evaluation(result):\n",
    "    print(f'RESULT STARTWERT {result} ')\n",
    "    if result == [1, 1, 1]:\n",
    "        return (\"Schock Aus\", result, 1)\n",
    "\n",
    "    elif (result[0] == 1 and (result[1] == 1 or result[2] == 1)) or (result[1] == 1 and result[2] == 1):  # Schock\n",
    "        for i in range(3):\n",
    "            if result[i] != 1:\n",
    "                schock = result\n",
    "                print(f'Schock {schock} ')\n",
    "        return (\"Schock\", schock, 2)\n",
    "\n",
    "    elif result[0] == result[1] and result[0] == result[2] and result[0] != 1:  # General\n",
    "        general = result\n",
    "        return (\"General\", general, 3)\n",
    "\n",
    "    # +++++++++++++++++++++++++++++++++++++++++++++++++ Straße fehlt noch\n",
    "\n",
    "    else:\n",
    "        print(f'RESULT komplett: {result} RESULT[1] {result[1]} ')\n",
    "\n",
    "        result.sort(reverse=True)       # Zahl\n",
    "        return (\"Zahl\", result, 5)\n",
    "      \n",
    "evaluation([1,1,5])"
   ]
  }
 ],
 "metadata": {
  "interpreter": {
   "hash": "916dbcbb3f70747c44a77c7bcd40155683ae19c65e1c03b4aa3499c5328201f1"
  },
  "kernelspec": {
   "display_name": "Python 3.8.10 64-bit",
   "language": "python",
   "name": "python3"
  },
  "language_info": {
   "codemirror_mode": {
    "name": "ipython",
    "version": 3
   },
   "file_extension": ".py",
   "mimetype": "text/x-python",
   "name": "python",
   "nbconvert_exporter": "python",
   "pygments_lexer": "ipython3",
   "version": "3.9.7"
  },
  "orig_nbformat": 4
 },
 "nbformat": 4,
 "nbformat_minor": 2
}
