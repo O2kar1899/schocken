{
 "cells": [
  {
   "cell_type": "code",
   "execution_count": 1,
   "metadata": {},
   "outputs": [
    {
     "name": "stdout",
     "output_type": "stream",
     "text": [
      "[True]\n"
     ]
    }
   ],
   "source": [
    "\n",
    "def keep_human_round(result):\n",
    "    if result == [1, 1, 1]:\n",
    "        return [True]  # der Wurf wird behalten\n",
    "    else:\n",
    "        answer = input(f'Möchtest Du den Wurf: {result} behalten? (J/N): ')\n",
    "        if answer == \"J\" or answer == \"j\" or answer == \"Y\" or answer == \"y\":\n",
    "            return True\n",
    "        elif answer == 'q' or answer == 'Q':\n",
    "            quit()\n",
    "        else:\n",
    "            return False\n",
    "\n",
    "print(keep_human_round([1,1,1]))\n"
   ]
  },
  {
   "cell_type": "code",
   "execution_count": null,
   "metadata": {},
   "outputs": [],
   "source": []
  },
  {
   "cell_type": "code",
   "execution_count": null,
   "metadata": {},
   "outputs": [],
   "source": []
  },
  {
   "cell_type": "code",
   "execution_count": null,
   "metadata": {},
   "outputs": [],
   "source": []
  }
 ],
 "metadata": {
  "interpreter": {
   "hash": "916dbcbb3f70747c44a77c7bcd40155683ae19c65e1c03b4aa3499c5328201f1"
  },
  "kernelspec": {
   "display_name": "Python 3.8.10 64-bit",
   "language": "python",
   "name": "python3"
  },
  "language_info": {
   "codemirror_mode": {
    "name": "ipython",
    "version": 3
   },
   "file_extension": ".py",
   "mimetype": "text/x-python",
   "name": "python",
   "nbconvert_exporter": "python",
   "pygments_lexer": "ipython3",
   "version": "3.9.7"
  },
  "orig_nbformat": 4
 },
 "nbformat": 4,
 "nbformat_minor": 2
}
